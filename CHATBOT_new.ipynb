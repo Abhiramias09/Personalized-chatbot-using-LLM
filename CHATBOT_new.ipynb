{
  "nbformat": 4,
  "nbformat_minor": 0,
  "metadata": {
    "colab": {
      "provenance": []
    },
    "kernelspec": {
      "name": "python3",
      "display_name": "Python 3"
    },
    "language_info": {
      "name": "python"
    }
  },
  "cells": [
    {
      "cell_type": "code",
      "execution_count": 1,
      "metadata": {
        "id": "V6maXUYMp1Xb"
      },
      "outputs": [],
      "source": [
        "import pandas as pd\n",
        "import requests\n",
        "import re"
      ]
    },
    {
      "cell_type": "code",
      "source": [
        "# STEP 1: Load Excel file with democracy-related questions\n",
        "df = pd.read_excel('/content/drive/MyDrive/final_project/CHATBOT QNA.xlsx')\n",
        "df.columns = df.columns.str.strip()\n",
        "\n",
        "letters = ['A', 'B', 'C', 'D', 'E']\n",
        "qa_pairs = []\n",
        "\n",
        "print(\"🗳️ Welcome to the Democracy Personality Chatbot!\\nPlease answer the following 10 questions:\\n\")\n"
      ],
      "metadata": {
        "colab": {
          "base_uri": "https://localhost:8080/"
        },
        "id": "Q62i_msr7iPW",
        "outputId": "abbf028b-65c8-4727-80c9-3d3d191f7d3c"
      },
      "execution_count": 2,
      "outputs": [
        {
          "output_type": "stream",
          "name": "stdout",
          "text": [
            "🗳️ Welcome to the Democracy Personality Chatbot!\n",
            "Please answer the following 10 questions:\n",
            "\n"
          ]
        }
      ]
    },
    {
      "cell_type": "code",
      "source": [
        "# STEP 2: Load Excel File\n",
        "df = pd.read_excel('/content/drive/MyDrive/final_project/CHATBOT QNA.xlsx')\n",
        "df.columns = df.columns.str.strip()\n",
        "\n"
      ],
      "metadata": {
        "id": "kGhoC2x7qZ_m"
      },
      "execution_count": 3,
      "outputs": []
    },
    {
      "cell_type": "code",
      "source": [
        "\n",
        "\n",
        "# STEP 2: Ask 10 questions and collect answers\n",
        "for i in range(10):\n",
        "    row = df.iloc[i]\n",
        "    print(f\"\\nQ{i+1}: {row['Questions']}\")\n",
        "    for j in range(5):\n",
        "        print(f\"{letters[j]}) {row[f'Option {letters[j]}']}\")\n",
        "\n",
        "    while True:\n",
        "        answer_letter = input(\"Your answer (A/B/C/D/E): \").strip().upper()\n",
        "        if answer_letter in letters:\n",
        "            break\n",
        "        print(\"❗ Please enter A, B, C, D, or E.\")\n",
        "\n",
        "    answer_text = row[f'Option {answer_letter}']\n",
        "    qa_pairs.append((row['Questions'], answer_text))"
      ],
      "metadata": {
        "colab": {
          "base_uri": "https://localhost:8080/"
        },
        "id": "ui5rKDX87hqC",
        "outputId": "d312ab2b-e397-4844-c0f2-6673dad850f7"
      },
      "execution_count": 4,
      "outputs": [
        {
          "name": "stdout",
          "output_type": "stream",
          "text": [
            "\n",
            "Q1: Do you feel it is your duty to participate in every election, even if you don't strongly support any candidate?\"\n",
            "A) Strongly Disagree\n",
            "B) Disagree\n",
            "C) Neutral\n",
            "D) Agree\n",
            "E) Strongly Agree  \n",
            "Your answer (A/B/C/D/E): c\n",
            "Your answer (A/B/C/D/E): \n",
            "\n",
            "Q2: Do you enjoy discussing political and social issues with others, even if they have different views?ocial issues with others, even if they have different views.\n",
            "A) Strongly Disagree\n",
            "B) Disagree\n",
            "C) Neutral\n",
            "D) Agree\n",
            "E) Strongly Agree  \n",
            "❗ Please enter A, B, C, D, or E.\n",
            "Your answer (A/B/C/D/E): c\n",
            "\n",
            "Q3: Do you often feel anxious or frustrated when thinking about the current political situation?\n",
            "A) Strongly Disagree\n",
            "B) Disagree\n",
            "C) Neutral\n",
            "D) Agree\n",
            "E) Strongly Agree  \n",
            "Your answer (A/B/C/D/E): c\n",
            "\n",
            "Q4: Do you believe your vote can bring change, even if it's just one among millions?\n",
            "A) Strongly Disagree\n",
            "B) Disagree\n",
            "C) Neutral\n",
            "D) Agree\n",
            "E) Strongly Agree  \n",
            "Your answer (A/B/C/D/E): c\n",
            "\n",
            "Q5: Do you trust the election process in your country to be fair?\n",
            "A) Strongly Disagree\n",
            "B) Disagree\n",
            "C) Neutral\n",
            "D) Agree\n",
            "E) Strongly Agree  \n",
            "Your answer (A/B/C/D/E): c\n",
            "\n",
            "Q6: Do you talk to your friends or family about who they’re voting for and why?\n",
            "A) Strongly Disagree\n",
            "B) Disagree\n",
            "C) Neutral\n",
            "D) Agree\n",
            "E) Strongly Agree  \n",
            "Your answer (A/B/C/D/E): c\n",
            "\n",
            "Q7: Have you ever changed your political opinion after learning new information or hearing different perspectives?\n",
            "A) Strongly Disagree\n",
            "B) Disagree\n",
            "C) Neutral\n",
            "D) Agree\n",
            "E) Strongly Agree  \n",
            "Your answer (A/B/C/D/E): c\n",
            "\n",
            "Q8: Do you believe it’s important to stay informed about political events, even between elections?\n",
            "A) Strongly Disagree\n",
            "B) Disagree\n",
            "C) Neutral\n",
            "D) Agree\n",
            "E) Strongly Agree  \n",
            "Your answer (A/B/C/D/E): c\n",
            "\n",
            "Q9: Do you follow political influencers, commentators, or parties on social media?\n",
            "A) Strongly Disagree\n",
            "B) Disagree\n",
            "C) Neutral\n",
            "D) Agree\n",
            "E) Strongly Agree  \n",
            "Your answer (A/B/C/D/E): c\n",
            "\n",
            "Q10: Do you often research different perspectives before making a political decision?\n",
            "A) Strongly Disagree\n",
            "B) Disagree\n",
            "C) Neutral\n",
            "D) Agree\n",
            "E) Strongly Agree  \n",
            "Your answer (A/B/C/D/E): c\n"
          ]
        }
      ]
    },
    {
      "cell_type": "code",
      "source": [
        "# STEP 3: Build GPT prompt using the answers\n",
        "prompt = (\n",
        "    \"You are a psychologist using the OCEAN personality model (Openness, Conscientiousness, Extraversion, Agreeableness, Neuroticism).\\n\"\n",
        "    \"Given the user's answers to 10 democracy-related questions, assign a score from 1 to 10 for each trait.\\n\"\n",
        "    \"Then identify the dominant trait and provide a short explanation.\\n\\n\"\n",
        ")\n",
        "\n",
        "for i, (q, a) in enumerate(qa_pairs, 1):\n",
        "    prompt += f\"Q{i}: {q}\\nAnswer: {a}\\n\\n\"\n",
        "\n",
        "prompt += (\n",
        "    \"Return the output in this format:\\n\"\n",
        "    \"- Openness: #\\n\"\n",
        "    \"- Conscientiousness: #\\n\"\n",
        "    \"- Extraversion: #\\n\"\n",
        "    \"- Agreeableness: #\\n\"\n",
        "    \"- Neuroticism: #\\n\\n\"\n",
        "    \"Top Trait: [Trait Name]\\n\"\n",
        "    \"Explanation: [Short explanation of why this is dominant]\"\n",
        ")\n"
      ],
      "metadata": {
        "id": "8CoYpZ7ux04e"
      },
      "execution_count": 11,
      "outputs": []
    },
    {
      "cell_type": "code",
      "source": [
        "# STEP 4: Send request to OpenRouter API (GPT-3.5)\n",
        "OPENROUTER_API_KEY = \"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\"  # 🔐 Replace this securely\n",
        "\n",
        "headers = {\n",
        "    \"Authorization\": f\"Bearer {OPENROUTER_API_KEY}\",\n",
        "    \"Content-Type\": \"application/json\"\n",
        "}\n",
        "\n",
        "data = {\n",
        "    \"model\": \"openai/gpt-3.5-turbo\",\n",
        "    \"messages\": [{\"role\": \"user\", \"content\": prompt}]\n",
        "}\n",
        "\n",
        "response = requests.post(\"https://openrouter.ai/api/v1/chat/completions\", headers=headers, json=data)"
      ],
      "metadata": {
        "id": "PMDl-_kztM2M"
      },
      "execution_count": 12,
      "outputs": []
    },
    {
      "cell_type": "code",
      "source": [
        "# STEP 5: Process GPT response\n",
        "if response.status_code == 200:\n",
        "    output = response.json()['choices'][0]['message']['content']\n",
        "    print(\"\\n GPT-3.5 Personality Analysis (Raw):\\n\")\n",
        "    print(output)\n",
        "\n",
        "      # STEP 6: Extract raw OCEAN scores (1–10)\n",
        "    import re\n",
        "\n",
        "    trait_list = ['Openness', 'Conscientiousness', 'Extraversion', 'Agreeableness', 'Neuroticism']\n",
        "    raw_scores = {}\n",
        "\n",
        "    for trait in trait_list:\n",
        "        match = re.search(fr\"{trait}:\\s*(\\d+)\", output)\n",
        "        if match:\n",
        "            raw_scores[trait] = int(match.group(1))\n",
        "        else:\n",
        "            raw_scores[trait] = None\n",
        "\n",
        "    # STEP 7: Detect all top traits\n",
        "    max_raw_score = max(score for score in raw_scores.values() if score is not None)\n",
        "    top_traits = [trait for trait, score in raw_scores.items() if score == max_raw_score]\n",
        "\n",
        "\n",
        "\n",
        "    # STEP 9: Display top traits\n",
        "    print(f\"\\n🌟 Top Trait{'s' if len(top_traits) > 1 else ''}: {', '.join(top_traits)}\")\n",
        "\n",
        "    # STEP 10: Policy suggestions\n",
        "    policy_suggestions = {\n",
        "        \"Openness\": (\n",
        "            \"You are a visionary thinker!\\n\"\n",
        "            \"- Explore the Digital India Act 2023: https://www.meity.gov.in/digital-india-act-2023\\n\"\n",
        "            \"- Participate in the Youth Parliament Scheme: https://nyps.mpa.gov.in/\\n\"\n",
        "            \"- Follow think tanks like Vidhi Legal Policy: https://vidhilegalpolicy.in/\\n\"\n",
        "            \"- Join civic hackathons and digital reform initiatives\\n\"\n",
        "            \"- Engage with MyGov for public consultations: https://www.mygov.in/\"\n",
        "        ),\n",
        "        \"Conscientiousness\": (\n",
        "            \"You’re highly civic-minded and responsible!\\n\"\n",
        "            \"- Register to vote: https://www.nvsp.in/\\n\"\n",
        "            \"- Review MLA performance (Praja Foundation): https://praja.org/\\n\"\n",
        "            \"- Study the Union Budget: https://www.indiabudget.gov.in/\\n\"\n",
        "            \"- Volunteer for election monitoring\\n\"\n",
        "            \"- Use grievance portals like CPGRAMS: https://pgportal.gov.in/\"\n",
        "        ),\n",
        "        \"Extraversion\": (\n",
        "            \" You thrive in social and group efforts!\\n\"\n",
        "            \"- Join Nehru Yuva Kendra: https://nyks.nic.in/\\n\"\n",
        "            \"- Organize or attend public consultations\\n\"\n",
        "            \"- Host voter awareness events\\n\"\n",
        "            \"- Join SVEEP initiatives: https://ecisveep.nic.in/\\n\"\n",
        "            \"- Lead constitutional literacy drives\"\n",
        "        ),\n",
        "        \"Agreeableness\": (\n",
        "            \" Your compassion drives change!\\n\"\n",
        "            \"- Advocate for disability inclusion: https://www.orfonline.org/research/disability-inclusion-in-india/\\n\"\n",
        "            \"- Work with NGOs on social justice\\n\"\n",
        "            \"- Promote inclusive government schemes\\n\"\n",
        "            \"- Use CPGRAMS to help citizens: https://pgportal.gov.in/\\n\"\n",
        "            \"- Educate on minority and elderly rights\"\n",
        "        ),\n",
        "        \"Neuroticism\": (\n",
        "            \" Your awareness protects democracy!\\n\"\n",
        "            \"- Report electoral violations with the cVIGIL App: https://play.google.com/store/apps/details?id=in.nic.eci.cvigil\\n\"\n",
        "            \"- File complaints on CPGRAMS: https://pgportal.gov.in/\\n\"\n",
        "            \"- Subscribe to fact-checking: https://altnews.in/\\n\"\n",
        "            \"- Use RTI to investigate issues: https://rtionline.gov.in/\\n\"\n",
        "            \"- Follow ECI alerts: https://eci.gov.in/\"\n",
        "        )\n",
        "    }\n",
        "\n",
        "    print(\"📢 Recommended Civic Engagement:\")\n",
        "    for trait in top_traits:\n",
        "        suggestion = policy_suggestions.get(trait, \"🔍 No suggestion found for this trait.\")\n",
        "        print(f\"\\n🧭 {trait}:\\n{suggestion}\")\n",
        "\n",
        "else:\n",
        "    print(f\"❌ Error: {response.status_code}\")\n",
        "    print(response.text)\n"
      ],
      "metadata": {
        "colab": {
          "base_uri": "https://localhost:8080/"
        },
        "id": "bReziznhkGCE",
        "outputId": "221446ca-c826-4ddf-c74f-075435766346"
      },
      "execution_count": 13,
      "outputs": [
        {
          "output_type": "stream",
          "name": "stdout",
          "text": [
            "❌ Error: 404\n",
            "{\"error\":{\"message\":\"No endpoints found for openai/gpt-3.5-turbo.\",\"code\":404},\"user_id\":\"user_2uq6z2zBi2uMlPZ9t4t67xGnAYI\"}\n"
          ]
        }
      ]
    }
  ]
}